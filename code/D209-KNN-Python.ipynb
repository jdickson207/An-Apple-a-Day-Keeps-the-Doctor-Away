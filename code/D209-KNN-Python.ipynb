{
 "cells": [
  {
   "cell_type": "markdown",
   "id": "84646869-bc2a-4468-a044-c0e9956dcb34",
   "metadata": {},
   "source": [
    "### Jilian Dickson\n",
    "### September 25, 2022\n",
    "### WGU- D209 PA\n",
    "### Task 1- KNN \n",
    "### Dr. Straw"
   ]
  },
  {
   "cell_type": "markdown",
   "id": "562a8ed0-804c-4305-be0b-da1fbad80fca",
   "metadata": {},
   "source": [
    "### Part I: Research Question\n",
    "#### A.  Describe the purpose of this data mining report by doing the following:\n",
    "#### 1.  I chose to again consider the readmission rate of rates for patients to hospitals/medical facilities where the readmission is the return of the patient to the hospital or medical facilty within a month of being released.  My research question wants to know if there are certain variables that are most likely to be significant to readmission of patients to hospitals/medical facilities. To answer this question, I will use the provided medical dataset that has patient data. It includes 50 columns (variables) and 10,000 rows, and I will use KNN (K-Nearest Neighbors algorithm).\n",
    "#### 2.  One goal of this analysis is to see if we can determine how to help hospitals/medical facilties classify patients that are more like to be readmitted based on the varibles in our model. If we are able to do this, these medical facilties could potentially prevent readmission by specializing treatment of those patients during their initial admission. "
   ]
  },
  {
   "cell_type": "markdown",
   "id": "159cd300-c861-43bb-868c-dfb96e63e65d",
   "metadata": {},
   "source": [
    "### Part II: Method Justification (RealPython)\n",
    "#### B.  Explain the reasons for your chosen classification method from part A1 by doing the following:\n",
    "#### 1.  The KNN algorithm tells us that similar things are usually grouped together. This grouping of similar things ideal can help us make conclusions about points (or variables) that are near each other. KNN can be used to make assumptions about variables that we have but don't know much about. It is often used to classify a data point based on how its neighbors are classified. KNN works by taking a data point and uses Euclidean distance to determine its nearest neighbors. The number of neighbors the algorithm looks for is determined by person running the analysis (me, in this instance). Once the neighbors are determined, KNN classifies the new data point in the same class as its neighbors. A predicted outcome of the analysis will be to use KNN on our dataset to better understand whether a patient will be readmitted to the hospital/medical facilty. \n",
    "#### 2.  According to RealPython, \"The primary assumption that a KNN model makes is that data points/instances which exist in close proximity to each other are highly similar, while if a data point is far away from another group it is dissimilar to those data points. A KNN model calculates similarity using the distance between two points on a graph.\"\n",
    "#### 3.  The following are the libraries and their purpose for this analyis: \n",
    "##### * numpy – This is used for analysis.\n",
    "##### * matplotlib.pyplot – This is used for analysis and visualizations.\n",
    "##### * pandas – This is used for data manipulation and analysis.\n",
    "##### * from sklearn.metrics - confusion_matrix, accuracy_score – These are used for the visualizations for our analysis.\n",
    "##### * from sklearn.neighbors import KNeighborsClassifier – This is used in KNN models.\n",
    "##### * from sklearn.tree import DecisionTreeClassifier – This is also used in KNN models \n",
    "##### * from sklearn.model_selection - train_test_split – This is used to split the data for the train/test portion. \n",
    "##### * from sklearn.metrics import accuracy_score- This is used to determine the accuracy score.\n",
    "##### * from sklearn.metrics import roc_auc_score -This is used to calculate the ROC and AUC. \n",
    "##### * from sklearn import linear_model- This is used for functions for performing machine learning with linear models.\n",
    "##### * import matplotlib.pyplot as plt- This is used for used for data visualization.\n",
    "##### * import seaborn as sns- This is used for data visualization library used for making statistical graphs. \n",
    "##### * from sklearn import preprocessing- This is for data standardization.\n",
    "##### * from sklearn.model_selection import cross_val_score- This is used for determining the cross validation score.\n",
    "##### * from sklearn.model_selection import GridSearchCV- This is used for applying a grid search to an array of hyper-parameters and cross-validating a model using k-fold cross validation.\n",
    "##### * from sklearn.metrics import classification_report- This is used for measuring the quality of predictions from a classification algorithm.\n",
    "##### * from sklearn.preprocessing import StandardScaler- This is used for standardizing data. \n",
    "##### * from sklearn.pipeline import Pipeline- This is used for connecting data processing together in sklearn."
   ]
  },
  {
   "cell_type": "markdown",
   "id": "1ceef3a0-d429-49a7-8a24-6bedeb34b31c",
   "metadata": {},
   "source": [
    "### Part III: Data Preparation (Bruce, 2020), (Dickson, 2022)\n",
    "#### C. Perform data preparation:\n",
    "#### 1. Much of the data that I am interested in using for my research question is binary (values are currently yes and no) and categorical and will allow the determination of which variables will show if a patient will be readmitted or not by showing yes or no- I will need to recode/dummy code these variables into 0s and 1s in order to use them in my classification analysis.\n",
    "#### 2. For my analysis, I will use the target response variable ReAdmis (which is binary/categorical) and the possible predictor categorical variables HighBlood, Stroke, Overweight, Arthritis, Diabetes, Hyperlipidemia, BackPain, Asthma, Anxiety, Soft_drink, Allergic_rhinitis, Reflux_esophagitis, along with the continuous variables Income, TotalCharge, Additional_charges. I am also interested in the survey responses named Items #1-#8 in the initial dataset (ordinal and discrete variables and were renamed/recoded by me) because they might have helped patients decide whether or not they were going to seek readmission. Their new names in order are: Survey_TimelyAdmission, Survey_TimelyTreatment, Survey_TimelyVisits, Survey_Reliability, Survey_Options, Survey_Hours, Survey_CourteousStaff, and Survey_EvidenceListening.\n",
    "#### 3. Before I can do any analysis, I first need to get the data ready. This is an important step because any errors or mistakes here could lead to an incomplete/inaccurate analysis. I began by getting information and the shape of the dataset. I then looked for any duplicates or missing values. After ensuring that there weren't any, I decided to drop the patient demographical data becuase it was not relevant to my analysis as it wouldn't change in the different models. I then renamed my survey responses so that they were easier to identify in the analysis and recoded the binary categorical variables to numeric so that they could be used in the analysis. Finally, the clean and prepared dataset was written to CSV as required.\n",
    "####    The steps to prepare the 'medical' CSV are the following:\n",
    "#### a. Load the libraries.\n",
    "#### b. Read in the dataset into Jupyter lab.\n",
    "#### c. Get information on the dataset\n",
    "#### d. Get shape of dataset\n",
    "#### e. Look for duplicates\n",
    "#### f. Look for missing values\n",
    "#### g. Drop variables that are not medical conditions or survey answers (so all demographical data)\n",
    "#### h. Rename survey items #1-#8 so that they are easier to identify in the analysis\n",
    "#### i. Recode the binary variables to numeric so that they can be used in my analysis.\n",
    "#### j. Extract clean data called medical to csv to use for KNN model.\n",
    "#### 4. Provide a copy of the cleaned data set (included with submission)."
   ]
  },
  {
   "cell_type": "code",
   "execution_count": 66,
   "id": "096616ab-0928-4cc0-9459-60f97c034c3c",
   "metadata": {},
   "outputs": [],
   "source": [
    "#Import libraries needed for analysis (GeeksforGeeks, 2022).\n",
    "import numpy as np\n",
    "import pandas as pd\n",
    "from sklearn import linear_model\n",
    "import matplotlib.pyplot as plt\n",
    "import seaborn as sns\n",
    "%matplotlib inline\n",
    "import sklearn\n",
    "from sklearn import datasets\n",
    "from sklearn import preprocessing\n",
    "from sklearn.neighbors import KNeighborsClassifier\n",
    "from sklearn.model_selection import train_test_split\n",
    "from sklearn.metrics import accuracy_score\n",
    "from sklearn.model_selection import cross_val_score\n",
    "from sklearn import metrics\n",
    "from sklearn.metrics import roc_auc_score\n",
    "from sklearn.model_selection import GridSearchCV\n",
    "from sklearn.metrics import classification_report\n",
    "from sklearn.preprocessing import StandardScaler\n",
    "from sklearn.pipeline import Pipeline\n",
    "from sklearn.metrics import confusion_matrix"
   ]
  },
  {
   "cell_type": "code",
   "execution_count": 35,
   "id": "22615c36-43e5-45ea-8d9b-9a9c37f39225",
   "metadata": {},
   "outputs": [
    {
     "data": {
      "text/html": [
       "<div>\n",
       "<style scoped>\n",
       "    .dataframe tbody tr th:only-of-type {\n",
       "        vertical-align: middle;\n",
       "    }\n",
       "\n",
       "    .dataframe tbody tr th {\n",
       "        vertical-align: top;\n",
       "    }\n",
       "\n",
       "    .dataframe thead th {\n",
       "        text-align: right;\n",
       "    }\n",
       "</style>\n",
       "<table border=\"1\" class=\"dataframe\">\n",
       "  <thead>\n",
       "    <tr style=\"text-align: right;\">\n",
       "      <th></th>\n",
       "      <th>CaseOrder</th>\n",
       "      <th>Customer_id</th>\n",
       "      <th>Interaction</th>\n",
       "      <th>UID</th>\n",
       "      <th>City</th>\n",
       "      <th>State</th>\n",
       "      <th>County</th>\n",
       "      <th>Zip</th>\n",
       "      <th>Lat</th>\n",
       "      <th>Lng</th>\n",
       "      <th>...</th>\n",
       "      <th>TotalCharge</th>\n",
       "      <th>Additional_charges</th>\n",
       "      <th>Item1</th>\n",
       "      <th>Item2</th>\n",
       "      <th>Item3</th>\n",
       "      <th>Item4</th>\n",
       "      <th>Item5</th>\n",
       "      <th>Item6</th>\n",
       "      <th>Item7</th>\n",
       "      <th>Item8</th>\n",
       "    </tr>\n",
       "  </thead>\n",
       "  <tbody>\n",
       "    <tr>\n",
       "      <th>0</th>\n",
       "      <td>1</td>\n",
       "      <td>C412403</td>\n",
       "      <td>8cd49b13-f45a-4b47-a2bd-173ffa932c2f</td>\n",
       "      <td>3a83ddb66e2ae73798bdf1d705dc0932</td>\n",
       "      <td>Eva</td>\n",
       "      <td>AL</td>\n",
       "      <td>Morgan</td>\n",
       "      <td>35621</td>\n",
       "      <td>34.34960</td>\n",
       "      <td>-86.72508</td>\n",
       "      <td>...</td>\n",
       "      <td>3726.702860</td>\n",
       "      <td>17939.403420</td>\n",
       "      <td>3</td>\n",
       "      <td>3</td>\n",
       "      <td>2</td>\n",
       "      <td>2</td>\n",
       "      <td>4</td>\n",
       "      <td>3</td>\n",
       "      <td>3</td>\n",
       "      <td>4</td>\n",
       "    </tr>\n",
       "    <tr>\n",
       "      <th>1</th>\n",
       "      <td>2</td>\n",
       "      <td>Z919181</td>\n",
       "      <td>d2450b70-0337-4406-bdbb-bc1037f1734c</td>\n",
       "      <td>176354c5eef714957d486009feabf195</td>\n",
       "      <td>Marianna</td>\n",
       "      <td>FL</td>\n",
       "      <td>Jackson</td>\n",
       "      <td>32446</td>\n",
       "      <td>30.84513</td>\n",
       "      <td>-85.22907</td>\n",
       "      <td>...</td>\n",
       "      <td>4193.190458</td>\n",
       "      <td>17612.998120</td>\n",
       "      <td>3</td>\n",
       "      <td>4</td>\n",
       "      <td>3</td>\n",
       "      <td>4</td>\n",
       "      <td>4</td>\n",
       "      <td>4</td>\n",
       "      <td>3</td>\n",
       "      <td>3</td>\n",
       "    </tr>\n",
       "    <tr>\n",
       "      <th>2</th>\n",
       "      <td>3</td>\n",
       "      <td>F995323</td>\n",
       "      <td>a2057123-abf5-4a2c-abad-8ffe33512562</td>\n",
       "      <td>e19a0fa00aeda885b8a436757e889bc9</td>\n",
       "      <td>Sioux Falls</td>\n",
       "      <td>SD</td>\n",
       "      <td>Minnehaha</td>\n",
       "      <td>57110</td>\n",
       "      <td>43.54321</td>\n",
       "      <td>-96.63772</td>\n",
       "      <td>...</td>\n",
       "      <td>2434.234222</td>\n",
       "      <td>17505.192460</td>\n",
       "      <td>2</td>\n",
       "      <td>4</td>\n",
       "      <td>4</td>\n",
       "      <td>4</td>\n",
       "      <td>3</td>\n",
       "      <td>4</td>\n",
       "      <td>3</td>\n",
       "      <td>3</td>\n",
       "    </tr>\n",
       "    <tr>\n",
       "      <th>3</th>\n",
       "      <td>4</td>\n",
       "      <td>A879973</td>\n",
       "      <td>1dec528d-eb34-4079-adce-0d7a40e82205</td>\n",
       "      <td>cd17d7b6d152cb6f23957346d11c3f07</td>\n",
       "      <td>New Richland</td>\n",
       "      <td>MN</td>\n",
       "      <td>Waseca</td>\n",
       "      <td>56072</td>\n",
       "      <td>43.89744</td>\n",
       "      <td>-93.51479</td>\n",
       "      <td>...</td>\n",
       "      <td>2127.830423</td>\n",
       "      <td>12993.437350</td>\n",
       "      <td>3</td>\n",
       "      <td>5</td>\n",
       "      <td>5</td>\n",
       "      <td>3</td>\n",
       "      <td>4</td>\n",
       "      <td>5</td>\n",
       "      <td>5</td>\n",
       "      <td>5</td>\n",
       "    </tr>\n",
       "    <tr>\n",
       "      <th>4</th>\n",
       "      <td>5</td>\n",
       "      <td>C544523</td>\n",
       "      <td>5885f56b-d6da-43a3-8760-83583af94266</td>\n",
       "      <td>d2f0425877b10ed6bb381f3e2579424a</td>\n",
       "      <td>West Point</td>\n",
       "      <td>VA</td>\n",
       "      <td>King William</td>\n",
       "      <td>23181</td>\n",
       "      <td>37.59894</td>\n",
       "      <td>-76.88958</td>\n",
       "      <td>...</td>\n",
       "      <td>2113.073274</td>\n",
       "      <td>3716.525786</td>\n",
       "      <td>2</td>\n",
       "      <td>1</td>\n",
       "      <td>3</td>\n",
       "      <td>3</td>\n",
       "      <td>5</td>\n",
       "      <td>3</td>\n",
       "      <td>4</td>\n",
       "      <td>3</td>\n",
       "    </tr>\n",
       "    <tr>\n",
       "      <th>5</th>\n",
       "      <td>6</td>\n",
       "      <td>S543885</td>\n",
       "      <td>e3b0a319-9e2e-4a23-8752-2fdc736c30f4</td>\n",
       "      <td>03e447146d4a32e1aaf75727c3d1230c</td>\n",
       "      <td>Braggs</td>\n",
       "      <td>OK</td>\n",
       "      <td>Muskogee</td>\n",
       "      <td>74423</td>\n",
       "      <td>35.67302</td>\n",
       "      <td>-95.19180</td>\n",
       "      <td>...</td>\n",
       "      <td>2636.691180</td>\n",
       "      <td>12742.589910</td>\n",
       "      <td>4</td>\n",
       "      <td>5</td>\n",
       "      <td>4</td>\n",
       "      <td>4</td>\n",
       "      <td>3</td>\n",
       "      <td>5</td>\n",
       "      <td>4</td>\n",
       "      <td>6</td>\n",
       "    </tr>\n",
       "    <tr>\n",
       "      <th>6</th>\n",
       "      <td>7</td>\n",
       "      <td>E543302</td>\n",
       "      <td>2fccb53e-bd9a-4eaa-a53c-9dfc0cb83f94</td>\n",
       "      <td>e4884a42ba809df6a89ded6c97f460d4</td>\n",
       "      <td>Thompson</td>\n",
       "      <td>OH</td>\n",
       "      <td>Geauga</td>\n",
       "      <td>44086</td>\n",
       "      <td>41.67511</td>\n",
       "      <td>-81.05788</td>\n",
       "      <td>...</td>\n",
       "      <td>3694.627161</td>\n",
       "      <td>16815.513600</td>\n",
       "      <td>4</td>\n",
       "      <td>3</td>\n",
       "      <td>3</td>\n",
       "      <td>2</td>\n",
       "      <td>3</td>\n",
       "      <td>4</td>\n",
       "      <td>5</td>\n",
       "      <td>5</td>\n",
       "    </tr>\n",
       "    <tr>\n",
       "      <th>7</th>\n",
       "      <td>8</td>\n",
       "      <td>K477307</td>\n",
       "      <td>ab634508-dd8c-42e5-a4e4-d101a46f2431</td>\n",
       "      <td>5f78b8699d1aa9b950b562073f629ca2</td>\n",
       "      <td>Strasburg</td>\n",
       "      <td>VA</td>\n",
       "      <td>Shenandoah</td>\n",
       "      <td>22641</td>\n",
       "      <td>39.08062</td>\n",
       "      <td>-78.39150</td>\n",
       "      <td>...</td>\n",
       "      <td>3021.499039</td>\n",
       "      <td>6930.572138</td>\n",
       "      <td>1</td>\n",
       "      <td>2</td>\n",
       "      <td>2</td>\n",
       "      <td>5</td>\n",
       "      <td>4</td>\n",
       "      <td>2</td>\n",
       "      <td>4</td>\n",
       "      <td>2</td>\n",
       "    </tr>\n",
       "    <tr>\n",
       "      <th>8</th>\n",
       "      <td>9</td>\n",
       "      <td>Q870521</td>\n",
       "      <td>67b386eb-1d04-4020-9474-542a09d304e3</td>\n",
       "      <td>e8e016144bfbe14974752d834f530e26</td>\n",
       "      <td>Panama City</td>\n",
       "      <td>FL</td>\n",
       "      <td>Bay</td>\n",
       "      <td>32404</td>\n",
       "      <td>30.20097</td>\n",
       "      <td>-85.50610</td>\n",
       "      <td>...</td>\n",
       "      <td>2968.402860</td>\n",
       "      <td>8363.187290</td>\n",
       "      <td>3</td>\n",
       "      <td>3</td>\n",
       "      <td>2</td>\n",
       "      <td>3</td>\n",
       "      <td>3</td>\n",
       "      <td>3</td>\n",
       "      <td>4</td>\n",
       "      <td>2</td>\n",
       "    </tr>\n",
       "    <tr>\n",
       "      <th>9</th>\n",
       "      <td>10</td>\n",
       "      <td>Z229385</td>\n",
       "      <td>5acd5dd3-f0ae-41c7-9540-cf3e4ecb2e27</td>\n",
       "      <td>687e7ba1b80022c310fa2d4b00db199a</td>\n",
       "      <td>Paynesville</td>\n",
       "      <td>MN</td>\n",
       "      <td>Stearns</td>\n",
       "      <td>56362</td>\n",
       "      <td>45.40325</td>\n",
       "      <td>-94.71424</td>\n",
       "      <td>...</td>\n",
       "      <td>3147.855813</td>\n",
       "      <td>26225.989910</td>\n",
       "      <td>5</td>\n",
       "      <td>5</td>\n",
       "      <td>5</td>\n",
       "      <td>3</td>\n",
       "      <td>4</td>\n",
       "      <td>2</td>\n",
       "      <td>3</td>\n",
       "      <td>2</td>\n",
       "    </tr>\n",
       "  </tbody>\n",
       "</table>\n",
       "<p>10 rows × 50 columns</p>\n",
       "</div>"
      ],
      "text/plain": [
       "   CaseOrder Customer_id                           Interaction  \\\n",
       "0          1     C412403  8cd49b13-f45a-4b47-a2bd-173ffa932c2f   \n",
       "1          2     Z919181  d2450b70-0337-4406-bdbb-bc1037f1734c   \n",
       "2          3     F995323  a2057123-abf5-4a2c-abad-8ffe33512562   \n",
       "3          4     A879973  1dec528d-eb34-4079-adce-0d7a40e82205   \n",
       "4          5     C544523  5885f56b-d6da-43a3-8760-83583af94266   \n",
       "5          6     S543885  e3b0a319-9e2e-4a23-8752-2fdc736c30f4   \n",
       "6          7     E543302  2fccb53e-bd9a-4eaa-a53c-9dfc0cb83f94   \n",
       "7          8     K477307  ab634508-dd8c-42e5-a4e4-d101a46f2431   \n",
       "8          9     Q870521  67b386eb-1d04-4020-9474-542a09d304e3   \n",
       "9         10     Z229385  5acd5dd3-f0ae-41c7-9540-cf3e4ecb2e27   \n",
       "\n",
       "                                UID          City State        County    Zip  \\\n",
       "0  3a83ddb66e2ae73798bdf1d705dc0932           Eva    AL        Morgan  35621   \n",
       "1  176354c5eef714957d486009feabf195      Marianna    FL       Jackson  32446   \n",
       "2  e19a0fa00aeda885b8a436757e889bc9   Sioux Falls    SD     Minnehaha  57110   \n",
       "3  cd17d7b6d152cb6f23957346d11c3f07  New Richland    MN        Waseca  56072   \n",
       "4  d2f0425877b10ed6bb381f3e2579424a    West Point    VA  King William  23181   \n",
       "5  03e447146d4a32e1aaf75727c3d1230c        Braggs    OK      Muskogee  74423   \n",
       "6  e4884a42ba809df6a89ded6c97f460d4      Thompson    OH        Geauga  44086   \n",
       "7  5f78b8699d1aa9b950b562073f629ca2     Strasburg    VA    Shenandoah  22641   \n",
       "8  e8e016144bfbe14974752d834f530e26   Panama City    FL           Bay  32404   \n",
       "9  687e7ba1b80022c310fa2d4b00db199a   Paynesville    MN       Stearns  56362   \n",
       "\n",
       "        Lat       Lng  ...  TotalCharge Additional_charges Item1 Item2  Item3  \\\n",
       "0  34.34960 -86.72508  ...  3726.702860       17939.403420     3     3      2   \n",
       "1  30.84513 -85.22907  ...  4193.190458       17612.998120     3     4      3   \n",
       "2  43.54321 -96.63772  ...  2434.234222       17505.192460     2     4      4   \n",
       "3  43.89744 -93.51479  ...  2127.830423       12993.437350     3     5      5   \n",
       "4  37.59894 -76.88958  ...  2113.073274        3716.525786     2     1      3   \n",
       "5  35.67302 -95.19180  ...  2636.691180       12742.589910     4     5      4   \n",
       "6  41.67511 -81.05788  ...  3694.627161       16815.513600     4     3      3   \n",
       "7  39.08062 -78.39150  ...  3021.499039        6930.572138     1     2      2   \n",
       "8  30.20097 -85.50610  ...  2968.402860        8363.187290     3     3      2   \n",
       "9  45.40325 -94.71424  ...  3147.855813       26225.989910     5     5      5   \n",
       "\n",
       "   Item4  Item5 Item6 Item7 Item8  \n",
       "0      2      4     3     3     4  \n",
       "1      4      4     4     3     3  \n",
       "2      4      3     4     3     3  \n",
       "3      3      4     5     5     5  \n",
       "4      3      5     3     4     3  \n",
       "5      4      3     5     4     6  \n",
       "6      2      3     4     5     5  \n",
       "7      5      4     2     4     2  \n",
       "8      3      3     3     4     2  \n",
       "9      3      4     2     3     2  \n",
       "\n",
       "[10 rows x 50 columns]"
      ]
     },
     "execution_count": 35,
     "metadata": {},
     "output_type": "execute_result"
    }
   ],
   "source": [
    "#Read in data using pandas\n",
    "medical= pd.read_csv('C:/Users/Jilian/Desktop/medical_clean.csv')\n",
    "medical.head(10)"
   ]
  },
  {
   "cell_type": "code",
   "execution_count": 36,
   "id": "eb17d16b-f534-4613-8856-cff44b20d2f1",
   "metadata": {},
   "outputs": [
    {
     "name": "stdout",
     "output_type": "stream",
     "text": [
      "<class 'pandas.core.frame.DataFrame'>\n",
      "RangeIndex: 10000 entries, 0 to 9999\n",
      "Data columns (total 50 columns):\n",
      " #   Column              Non-Null Count  Dtype  \n",
      "---  ------              --------------  -----  \n",
      " 0   CaseOrder           10000 non-null  int64  \n",
      " 1   Customer_id         10000 non-null  object \n",
      " 2   Interaction         10000 non-null  object \n",
      " 3   UID                 10000 non-null  object \n",
      " 4   City                10000 non-null  object \n",
      " 5   State               10000 non-null  object \n",
      " 6   County              10000 non-null  object \n",
      " 7   Zip                 10000 non-null  int64  \n",
      " 8   Lat                 10000 non-null  float64\n",
      " 9   Lng                 10000 non-null  float64\n",
      " 10  Population          10000 non-null  int64  \n",
      " 11  Area                10000 non-null  object \n",
      " 12  TimeZone            10000 non-null  object \n",
      " 13  Job                 10000 non-null  object \n",
      " 14  Children            10000 non-null  int64  \n",
      " 15  Age                 10000 non-null  int64  \n",
      " 16  Income              10000 non-null  float64\n",
      " 17  Marital             10000 non-null  object \n",
      " 18  Gender              10000 non-null  object \n",
      " 19  ReAdmis             10000 non-null  object \n",
      " 20  VitD_levels         10000 non-null  float64\n",
      " 21  Doc_visits          10000 non-null  int64  \n",
      " 22  Full_meals_eaten    10000 non-null  int64  \n",
      " 23  vitD_supp           10000 non-null  int64  \n",
      " 24  Soft_drink          10000 non-null  object \n",
      " 25  Initial_admin       10000 non-null  object \n",
      " 26  HighBlood           10000 non-null  object \n",
      " 27  Stroke              10000 non-null  object \n",
      " 28  Complication_risk   10000 non-null  object \n",
      " 29  Overweight          10000 non-null  object \n",
      " 30  Arthritis           10000 non-null  object \n",
      " 31  Diabetes            10000 non-null  object \n",
      " 32  Hyperlipidemia      10000 non-null  object \n",
      " 33  BackPain            10000 non-null  object \n",
      " 34  Anxiety             10000 non-null  object \n",
      " 35  Allergic_rhinitis   10000 non-null  object \n",
      " 36  Reflux_esophagitis  10000 non-null  object \n",
      " 37  Asthma              10000 non-null  object \n",
      " 38  Services            10000 non-null  object \n",
      " 39  Initial_days        10000 non-null  float64\n",
      " 40  TotalCharge         10000 non-null  float64\n",
      " 41  Additional_charges  10000 non-null  float64\n",
      " 42  Item1               10000 non-null  int64  \n",
      " 43  Item2               10000 non-null  int64  \n",
      " 44  Item3               10000 non-null  int64  \n",
      " 45  Item4               10000 non-null  int64  \n",
      " 46  Item5               10000 non-null  int64  \n",
      " 47  Item6               10000 non-null  int64  \n",
      " 48  Item7               10000 non-null  int64  \n",
      " 49  Item8               10000 non-null  int64  \n",
      "dtypes: float64(7), int64(16), object(27)\n",
      "memory usage: 3.8+ MB\n"
     ]
    }
   ],
   "source": [
    "#Get information on data\n",
    "medical.info()"
   ]
  },
  {
   "cell_type": "code",
   "execution_count": 37,
   "id": "3d768e14-8d00-4237-b987-e826f253807d",
   "metadata": {},
   "outputs": [
    {
     "data": {
      "text/plain": [
       "(10000, 50)"
      ]
     },
     "execution_count": 37,
     "metadata": {},
     "output_type": "execute_result"
    }
   ],
   "source": [
    "#Get shape of data\n",
    "medical.shape"
   ]
  },
  {
   "cell_type": "code",
   "execution_count": 38,
   "id": "65b7df01-dd42-4337-a0aa-dff603e24269",
   "metadata": {},
   "outputs": [
    {
     "data": {
      "text/plain": [
       "Index(['CaseOrder', 'Customer_id', 'Interaction', 'UID', 'City', 'State',\n",
       "       'County', 'Zip', 'Lat', 'Lng', 'Population', 'Area', 'TimeZone', 'Job',\n",
       "       'Children', 'Age', 'Income', 'Marital', 'Gender', 'ReAdmis',\n",
       "       'VitD_levels', 'Doc_visits', 'Full_meals_eaten', 'vitD_supp',\n",
       "       'Soft_drink', 'Initial_admin', 'HighBlood', 'Stroke',\n",
       "       'Complication_risk', 'Overweight', 'Arthritis', 'Diabetes',\n",
       "       'Hyperlipidemia', 'BackPain', 'Anxiety', 'Allergic_rhinitis',\n",
       "       'Reflux_esophagitis', 'Asthma', 'Services', 'Initial_days',\n",
       "       'TotalCharge', 'Additional_charges', 'Item1', 'Item2', 'Item3', 'Item4',\n",
       "       'Item5', 'Item6', 'Item7', 'Item8'],\n",
       "      dtype='object')"
      ]
     },
     "execution_count": 38,
     "metadata": {},
     "output_type": "execute_result"
    }
   ],
   "source": [
    "#look at data columns\n",
    "medical.columns"
   ]
  },
  {
   "cell_type": "code",
   "execution_count": 39,
   "id": "e73f331a-5198-432b-a251-617bbf4445a8",
   "metadata": {},
   "outputs": [
    {
     "data": {
      "text/plain": [
       "0"
      ]
     },
     "execution_count": 39,
     "metadata": {},
     "output_type": "execute_result"
    }
   ],
   "source": [
    "#Look for duplicates:\n",
    "medical.duplicated().sum()"
   ]
  },
  {
   "cell_type": "code",
   "execution_count": 40,
   "id": "f3ff9bb9-7ebc-4f00-9d6d-41a2f5cc30a7",
   "metadata": {},
   "outputs": [
    {
     "data": {
      "text/plain": [
       "CaseOrder             0\n",
       "Customer_id           0\n",
       "Interaction           0\n",
       "UID                   0\n",
       "City                  0\n",
       "State                 0\n",
       "County                0\n",
       "Zip                   0\n",
       "Lat                   0\n",
       "Lng                   0\n",
       "Population            0\n",
       "Area                  0\n",
       "TimeZone              0\n",
       "Job                   0\n",
       "Children              0\n",
       "Age                   0\n",
       "Income                0\n",
       "Marital               0\n",
       "Gender                0\n",
       "ReAdmis               0\n",
       "VitD_levels           0\n",
       "Doc_visits            0\n",
       "Full_meals_eaten      0\n",
       "vitD_supp             0\n",
       "Soft_drink            0\n",
       "Initial_admin         0\n",
       "HighBlood             0\n",
       "Stroke                0\n",
       "Complication_risk     0\n",
       "Overweight            0\n",
       "Arthritis             0\n",
       "Diabetes              0\n",
       "Hyperlipidemia        0\n",
       "BackPain              0\n",
       "Anxiety               0\n",
       "Allergic_rhinitis     0\n",
       "Reflux_esophagitis    0\n",
       "Asthma                0\n",
       "Services              0\n",
       "Initial_days          0\n",
       "TotalCharge           0\n",
       "Additional_charges    0\n",
       "Item1                 0\n",
       "Item2                 0\n",
       "Item3                 0\n",
       "Item4                 0\n",
       "Item5                 0\n",
       "Item6                 0\n",
       "Item7                 0\n",
       "Item8                 0\n",
       "dtype: int64"
      ]
     },
     "execution_count": 40,
     "metadata": {},
     "output_type": "execute_result"
    }
   ],
   "source": [
    "#Look for missing values:\n",
    "medical.isnull().sum()"
   ]
  },
  {
   "cell_type": "code",
   "execution_count": 41,
   "id": "1dc5f580-8364-483c-be38-9af2b7d9086b",
   "metadata": {},
   "outputs": [],
   "source": [
    "#Drop variables that I am not interested in for my research question\n",
    "medical = medical.drop(['CaseOrder','Customer_id','Interaction','UID','City','State','County','Zip','Lat','Lng','Population','Area','TimeZone','Job', 'Marital', 'Gender', 'Initial_admin', 'Complication_risk', 'Services'], axis=1)"
   ]
  },
  {
   "cell_type": "code",
   "execution_count": 42,
   "id": "4caeb7f4-5d2c-4370-896a-f0c7816ab577",
   "metadata": {},
   "outputs": [
    {
     "data": {
      "text/html": [
       "<div>\n",
       "<style scoped>\n",
       "    .dataframe tbody tr th:only-of-type {\n",
       "        vertical-align: middle;\n",
       "    }\n",
       "\n",
       "    .dataframe tbody tr th {\n",
       "        vertical-align: top;\n",
       "    }\n",
       "\n",
       "    .dataframe thead th {\n",
       "        text-align: right;\n",
       "    }\n",
       "</style>\n",
       "<table border=\"1\" class=\"dataframe\">\n",
       "  <thead>\n",
       "    <tr style=\"text-align: right;\">\n",
       "      <th></th>\n",
       "      <th>Children</th>\n",
       "      <th>Age</th>\n",
       "      <th>Income</th>\n",
       "      <th>ReAdmis</th>\n",
       "      <th>VitD_levels</th>\n",
       "      <th>Doc_visits</th>\n",
       "      <th>Full_meals_eaten</th>\n",
       "      <th>vitD_supp</th>\n",
       "      <th>Soft_drink</th>\n",
       "      <th>HighBlood</th>\n",
       "      <th>...</th>\n",
       "      <th>TotalCharge</th>\n",
       "      <th>Additional_charges</th>\n",
       "      <th>Item1</th>\n",
       "      <th>Item2</th>\n",
       "      <th>Item3</th>\n",
       "      <th>Item4</th>\n",
       "      <th>Item5</th>\n",
       "      <th>Item6</th>\n",
       "      <th>Item7</th>\n",
       "      <th>Item8</th>\n",
       "    </tr>\n",
       "  </thead>\n",
       "  <tbody>\n",
       "    <tr>\n",
       "      <th>0</th>\n",
       "      <td>1</td>\n",
       "      <td>53</td>\n",
       "      <td>86575.93</td>\n",
       "      <td>No</td>\n",
       "      <td>19.141466</td>\n",
       "      <td>6</td>\n",
       "      <td>0</td>\n",
       "      <td>0</td>\n",
       "      <td>No</td>\n",
       "      <td>Yes</td>\n",
       "      <td>...</td>\n",
       "      <td>3726.702860</td>\n",
       "      <td>17939.403420</td>\n",
       "      <td>3</td>\n",
       "      <td>3</td>\n",
       "      <td>2</td>\n",
       "      <td>2</td>\n",
       "      <td>4</td>\n",
       "      <td>3</td>\n",
       "      <td>3</td>\n",
       "      <td>4</td>\n",
       "    </tr>\n",
       "    <tr>\n",
       "      <th>1</th>\n",
       "      <td>3</td>\n",
       "      <td>51</td>\n",
       "      <td>46805.99</td>\n",
       "      <td>No</td>\n",
       "      <td>18.940352</td>\n",
       "      <td>4</td>\n",
       "      <td>2</td>\n",
       "      <td>1</td>\n",
       "      <td>No</td>\n",
       "      <td>Yes</td>\n",
       "      <td>...</td>\n",
       "      <td>4193.190458</td>\n",
       "      <td>17612.998120</td>\n",
       "      <td>3</td>\n",
       "      <td>4</td>\n",
       "      <td>3</td>\n",
       "      <td>4</td>\n",
       "      <td>4</td>\n",
       "      <td>4</td>\n",
       "      <td>3</td>\n",
       "      <td>3</td>\n",
       "    </tr>\n",
       "    <tr>\n",
       "      <th>2</th>\n",
       "      <td>3</td>\n",
       "      <td>53</td>\n",
       "      <td>14370.14</td>\n",
       "      <td>No</td>\n",
       "      <td>18.057507</td>\n",
       "      <td>4</td>\n",
       "      <td>1</td>\n",
       "      <td>0</td>\n",
       "      <td>No</td>\n",
       "      <td>Yes</td>\n",
       "      <td>...</td>\n",
       "      <td>2434.234222</td>\n",
       "      <td>17505.192460</td>\n",
       "      <td>2</td>\n",
       "      <td>4</td>\n",
       "      <td>4</td>\n",
       "      <td>4</td>\n",
       "      <td>3</td>\n",
       "      <td>4</td>\n",
       "      <td>3</td>\n",
       "      <td>3</td>\n",
       "    </tr>\n",
       "    <tr>\n",
       "      <th>3</th>\n",
       "      <td>0</td>\n",
       "      <td>78</td>\n",
       "      <td>39741.49</td>\n",
       "      <td>No</td>\n",
       "      <td>16.576858</td>\n",
       "      <td>4</td>\n",
       "      <td>1</td>\n",
       "      <td>0</td>\n",
       "      <td>No</td>\n",
       "      <td>No</td>\n",
       "      <td>...</td>\n",
       "      <td>2127.830423</td>\n",
       "      <td>12993.437350</td>\n",
       "      <td>3</td>\n",
       "      <td>5</td>\n",
       "      <td>5</td>\n",
       "      <td>3</td>\n",
       "      <td>4</td>\n",
       "      <td>5</td>\n",
       "      <td>5</td>\n",
       "      <td>5</td>\n",
       "    </tr>\n",
       "    <tr>\n",
       "      <th>4</th>\n",
       "      <td>1</td>\n",
       "      <td>22</td>\n",
       "      <td>1209.56</td>\n",
       "      <td>No</td>\n",
       "      <td>17.439069</td>\n",
       "      <td>5</td>\n",
       "      <td>0</td>\n",
       "      <td>2</td>\n",
       "      <td>Yes</td>\n",
       "      <td>No</td>\n",
       "      <td>...</td>\n",
       "      <td>2113.073274</td>\n",
       "      <td>3716.525786</td>\n",
       "      <td>2</td>\n",
       "      <td>1</td>\n",
       "      <td>3</td>\n",
       "      <td>3</td>\n",
       "      <td>5</td>\n",
       "      <td>3</td>\n",
       "      <td>4</td>\n",
       "      <td>3</td>\n",
       "    </tr>\n",
       "  </tbody>\n",
       "</table>\n",
       "<p>5 rows × 31 columns</p>\n",
       "</div>"
      ],
      "text/plain": [
       "   Children  Age    Income ReAdmis  VitD_levels  Doc_visits  Full_meals_eaten  \\\n",
       "0         1   53  86575.93      No    19.141466           6                 0   \n",
       "1         3   51  46805.99      No    18.940352           4                 2   \n",
       "2         3   53  14370.14      No    18.057507           4                 1   \n",
       "3         0   78  39741.49      No    16.576858           4                 1   \n",
       "4         1   22   1209.56      No    17.439069           5                 0   \n",
       "\n",
       "   vitD_supp Soft_drink HighBlood  ...  TotalCharge Additional_charges Item1  \\\n",
       "0          0         No       Yes  ...  3726.702860       17939.403420     3   \n",
       "1          1         No       Yes  ...  4193.190458       17612.998120     3   \n",
       "2          0         No       Yes  ...  2434.234222       17505.192460     2   \n",
       "3          0         No        No  ...  2127.830423       12993.437350     3   \n",
       "4          2        Yes        No  ...  2113.073274        3716.525786     2   \n",
       "\n",
       "  Item2 Item3 Item4 Item5 Item6 Item7 Item8  \n",
       "0     3     2     2     4     3     3     4  \n",
       "1     4     3     4     4     4     3     3  \n",
       "2     4     4     4     3     4     3     3  \n",
       "3     5     5     3     4     5     5     5  \n",
       "4     1     3     3     5     3     4     3  \n",
       "\n",
       "[5 rows x 31 columns]"
      ]
     },
     "execution_count": 42,
     "metadata": {},
     "output_type": "execute_result"
    }
   ],
   "source": [
    "#Make sure columns were dropped correctly\n",
    "medical.head(5)"
   ]
  },
  {
   "cell_type": "code",
   "execution_count": 43,
   "id": "07575cb7-8692-40e9-a4c8-8eaf9c9a6be9",
   "metadata": {},
   "outputs": [],
   "source": [
    "#Rename survey columns (Items #1-#8) so they are easier to understand (Dickson, 2022)\n",
    "medical.rename(columns={'Item1': 'Survey_TimelyAdmission', 'Item2':'Survey_TimelyTreatment', 'Item3':'Survey_TimelyVisits','Item4': 'Survey_Reliability', 'Item5':'Survey_Options',\n",
    "'Item6':'Survey_Hours','Item7':'Survey_CourteousStaff','Item8':'Survey_EvidenceListening'}, inplace=True)"
   ]
  },
  {
   "cell_type": "code",
   "execution_count": 44,
   "id": "a5014d4d-db25-46e9-aef6-593322659552",
   "metadata": {},
   "outputs": [
    {
     "data": {
      "text/html": [
       "<div>\n",
       "<style scoped>\n",
       "    .dataframe tbody tr th:only-of-type {\n",
       "        vertical-align: middle;\n",
       "    }\n",
       "\n",
       "    .dataframe tbody tr th {\n",
       "        vertical-align: top;\n",
       "    }\n",
       "\n",
       "    .dataframe thead th {\n",
       "        text-align: right;\n",
       "    }\n",
       "</style>\n",
       "<table border=\"1\" class=\"dataframe\">\n",
       "  <thead>\n",
       "    <tr style=\"text-align: right;\">\n",
       "      <th></th>\n",
       "      <th>Children</th>\n",
       "      <th>Age</th>\n",
       "      <th>Income</th>\n",
       "      <th>ReAdmis</th>\n",
       "      <th>VitD_levels</th>\n",
       "      <th>Doc_visits</th>\n",
       "      <th>Full_meals_eaten</th>\n",
       "      <th>vitD_supp</th>\n",
       "      <th>Soft_drink</th>\n",
       "      <th>HighBlood</th>\n",
       "      <th>...</th>\n",
       "      <th>TotalCharge</th>\n",
       "      <th>Additional_charges</th>\n",
       "      <th>Survey_TimelyAdmission</th>\n",
       "      <th>Survey_TimelyTreatment</th>\n",
       "      <th>Survey_TimelyVisits</th>\n",
       "      <th>Survey_Reliability</th>\n",
       "      <th>Survey_Options</th>\n",
       "      <th>Survey_Hours</th>\n",
       "      <th>Survey_CourteousStaff</th>\n",
       "      <th>Survey_EvidenceListening</th>\n",
       "    </tr>\n",
       "  </thead>\n",
       "  <tbody>\n",
       "    <tr>\n",
       "      <th>0</th>\n",
       "      <td>1</td>\n",
       "      <td>53</td>\n",
       "      <td>86575.93</td>\n",
       "      <td>No</td>\n",
       "      <td>19.141466</td>\n",
       "      <td>6</td>\n",
       "      <td>0</td>\n",
       "      <td>0</td>\n",
       "      <td>No</td>\n",
       "      <td>Yes</td>\n",
       "      <td>...</td>\n",
       "      <td>3726.702860</td>\n",
       "      <td>17939.403420</td>\n",
       "      <td>3</td>\n",
       "      <td>3</td>\n",
       "      <td>2</td>\n",
       "      <td>2</td>\n",
       "      <td>4</td>\n",
       "      <td>3</td>\n",
       "      <td>3</td>\n",
       "      <td>4</td>\n",
       "    </tr>\n",
       "    <tr>\n",
       "      <th>1</th>\n",
       "      <td>3</td>\n",
       "      <td>51</td>\n",
       "      <td>46805.99</td>\n",
       "      <td>No</td>\n",
       "      <td>18.940352</td>\n",
       "      <td>4</td>\n",
       "      <td>2</td>\n",
       "      <td>1</td>\n",
       "      <td>No</td>\n",
       "      <td>Yes</td>\n",
       "      <td>...</td>\n",
       "      <td>4193.190458</td>\n",
       "      <td>17612.998120</td>\n",
       "      <td>3</td>\n",
       "      <td>4</td>\n",
       "      <td>3</td>\n",
       "      <td>4</td>\n",
       "      <td>4</td>\n",
       "      <td>4</td>\n",
       "      <td>3</td>\n",
       "      <td>3</td>\n",
       "    </tr>\n",
       "    <tr>\n",
       "      <th>2</th>\n",
       "      <td>3</td>\n",
       "      <td>53</td>\n",
       "      <td>14370.14</td>\n",
       "      <td>No</td>\n",
       "      <td>18.057507</td>\n",
       "      <td>4</td>\n",
       "      <td>1</td>\n",
       "      <td>0</td>\n",
       "      <td>No</td>\n",
       "      <td>Yes</td>\n",
       "      <td>...</td>\n",
       "      <td>2434.234222</td>\n",
       "      <td>17505.192460</td>\n",
       "      <td>2</td>\n",
       "      <td>4</td>\n",
       "      <td>4</td>\n",
       "      <td>4</td>\n",
       "      <td>3</td>\n",
       "      <td>4</td>\n",
       "      <td>3</td>\n",
       "      <td>3</td>\n",
       "    </tr>\n",
       "    <tr>\n",
       "      <th>3</th>\n",
       "      <td>0</td>\n",
       "      <td>78</td>\n",
       "      <td>39741.49</td>\n",
       "      <td>No</td>\n",
       "      <td>16.576858</td>\n",
       "      <td>4</td>\n",
       "      <td>1</td>\n",
       "      <td>0</td>\n",
       "      <td>No</td>\n",
       "      <td>No</td>\n",
       "      <td>...</td>\n",
       "      <td>2127.830423</td>\n",
       "      <td>12993.437350</td>\n",
       "      <td>3</td>\n",
       "      <td>5</td>\n",
       "      <td>5</td>\n",
       "      <td>3</td>\n",
       "      <td>4</td>\n",
       "      <td>5</td>\n",
       "      <td>5</td>\n",
       "      <td>5</td>\n",
       "    </tr>\n",
       "    <tr>\n",
       "      <th>4</th>\n",
       "      <td>1</td>\n",
       "      <td>22</td>\n",
       "      <td>1209.56</td>\n",
       "      <td>No</td>\n",
       "      <td>17.439069</td>\n",
       "      <td>5</td>\n",
       "      <td>0</td>\n",
       "      <td>2</td>\n",
       "      <td>Yes</td>\n",
       "      <td>No</td>\n",
       "      <td>...</td>\n",
       "      <td>2113.073274</td>\n",
       "      <td>3716.525786</td>\n",
       "      <td>2</td>\n",
       "      <td>1</td>\n",
       "      <td>3</td>\n",
       "      <td>3</td>\n",
       "      <td>5</td>\n",
       "      <td>3</td>\n",
       "      <td>4</td>\n",
       "      <td>3</td>\n",
       "    </tr>\n",
       "  </tbody>\n",
       "</table>\n",
       "<p>5 rows × 31 columns</p>\n",
       "</div>"
      ],
      "text/plain": [
       "   Children  Age    Income ReAdmis  VitD_levels  Doc_visits  Full_meals_eaten  \\\n",
       "0         1   53  86575.93      No    19.141466           6                 0   \n",
       "1         3   51  46805.99      No    18.940352           4                 2   \n",
       "2         3   53  14370.14      No    18.057507           4                 1   \n",
       "3         0   78  39741.49      No    16.576858           4                 1   \n",
       "4         1   22   1209.56      No    17.439069           5                 0   \n",
       "\n",
       "   vitD_supp Soft_drink HighBlood  ...  TotalCharge Additional_charges  \\\n",
       "0          0         No       Yes  ...  3726.702860       17939.403420   \n",
       "1          1         No       Yes  ...  4193.190458       17612.998120   \n",
       "2          0         No       Yes  ...  2434.234222       17505.192460   \n",
       "3          0         No        No  ...  2127.830423       12993.437350   \n",
       "4          2        Yes        No  ...  2113.073274        3716.525786   \n",
       "\n",
       "  Survey_TimelyAdmission Survey_TimelyTreatment Survey_TimelyVisits  \\\n",
       "0                      3                      3                   2   \n",
       "1                      3                      4                   3   \n",
       "2                      2                      4                   4   \n",
       "3                      3                      5                   5   \n",
       "4                      2                      1                   3   \n",
       "\n",
       "  Survey_Reliability Survey_Options Survey_Hours Survey_CourteousStaff  \\\n",
       "0                  2              4            3                     3   \n",
       "1                  4              4            4                     3   \n",
       "2                  4              3            4                     3   \n",
       "3                  3              4            5                     5   \n",
       "4                  3              5            3                     4   \n",
       "\n",
       "  Survey_EvidenceListening  \n",
       "0                        4  \n",
       "1                        3  \n",
       "2                        3  \n",
       "3                        5  \n",
       "4                        3  \n",
       "\n",
       "[5 rows x 31 columns]"
      ]
     },
     "execution_count": 44,
     "metadata": {},
     "output_type": "execute_result"
    }
   ],
   "source": [
    "#Make sure that the columns were renamed correctly\n",
    "medical.head(5)"
   ]
  },
  {
   "cell_type": "code",
   "execution_count": 45,
   "id": "4d8cbeb0-3191-4bfc-8d5e-d7e67907742c",
   "metadata": {},
   "outputs": [],
   "source": [
    "#Recode the binary (currently yes/no) variable values to 1s and 0s so that I can use them in my analysis\n",
    "medical = medical.replace(to_replace = ['Yes','No'],value = [1,0])"
   ]
  },
  {
   "cell_type": "code",
   "execution_count": 46,
   "id": "e437cc72-05ff-4ce4-b76b-0c1ceea9e496",
   "metadata": {},
   "outputs": [],
   "source": [
    "#Write new dataset to CSV\n",
    "medical.to_csv(r'C:/Users/Jilian/Desktop/medical.csv')"
   ]
  },
  {
   "cell_type": "markdown",
   "id": "0ed629bf-c4ed-4a6e-a106-ea692d7b622c",
   "metadata": {},
   "source": [
    "### Part IV: Analysis (Datagy.io, 2022), (Dickson, 2022), (Murallie, 2021), (Mulani, 2022), (GeeksforGeeks, 2022).\n",
    "#### D. Perform the data analysis and report on the results by doing the following:\n",
    "#### 1. Split the data into training and test data sets and provide the file(s).(code shown below)\n",
    "#### I began by making the two sets of data- a training set and a test set divided into an 80/20 split where 80 percent was utilized for the training portion and the remaining 20 percent was used for the test portion. We also had to be able to reproduce the results, so we set the seed to one.   Since we are going for as accurate of a model as possible, we started with a higher n-nearest neighbor value of seven (which meant the model would need to check the 7 closest data points) when classifiying it. We then fit our data to our KNN model and predicted the outcomes.\n",
    "#### 2. Describe the analysis technique you used to appropriately analyze the data.\n",
    "#### After I ran my first KNN model, it exhibited an accuracy score of 92% as shown in the coded KNN metrics below. Next, I scaled the dataset to see if the accuracy changed at all. (The options for this were that it would stay the same, it would increase, or it would decrease.) I then again split my data into the train portion and test portion and again fit it to my KNN model. My next model resulted in an accuracy score of 89% - this was lower than the first model’s accuracy score of 92%. My next step was to make a confusion matrix- this showed the scaled dataset’s true negatives compared to the false negatives and also the false positives compared to the true positives. Unfortunately for my model, it shows that scaling the model decreased its performance because the accuracy lessened from 0.92 to 0.89 while its precision lowered from 0.97 to 0.93.(code shown below)\n",
    "#### 3. Provide the code used to perform the classification analysis from part D2. (code shown below)"
   ]
  },
  {
   "cell_type": "code",
   "execution_count": 47,
   "id": "16af837b-5b93-45f0-9f62-eaa1f46af8db",
   "metadata": {},
   "outputs": [],
   "source": [
    "#Set predictor variables and target variable of ReAdmis\n",
    "x=medical.drop('ReAdmis',axis=1).values\n",
    "y=medical['ReAdmis'].values"
   ]
  },
  {
   "cell_type": "code",
   "execution_count": 48,
   "id": "88ec0d7d-d887-4bfe-8321-b3e71786d22a",
   "metadata": {},
   "outputs": [],
   "source": [
    "#set seed (needed to reproduce) and create training and test datasets with 80/20 split (Dickson, 2022), (GeeksforGeeks, 2022)\n",
    "SEED=1\n",
    "X_train,X_test,Y_train,Y_test = train_test_split(x,y,test_size=0.20,random_state=SEED)"
   ]
  },
  {
   "cell_type": "code",
   "execution_count": 49,
   "id": "16a7a5e2-dc25-4047-9400-ea06a2564cc3",
   "metadata": {},
   "outputs": [],
   "source": [
    "#Export training and testing data\n",
    "X_train.tofile(r'C:/Users/Jilian/Desktop/medical_Xtrain.csv',sep=',')\n",
    "X_test.tofile(r'C:/Users/Jilian/Desktop/medical_Xtest.csv',sep=',')\n",
    "Y_train.tofile(r'C:/Users/Jilian/Desktop/medical_Ytrain.csv',sep=',')\n",
    "Y_test.tofile(r'C:/Users/Jilian/Desktop/medical_Ytest.csv',sep=',')"
   ]
  },
  {
   "cell_type": "code",
   "execution_count": 50,
   "id": "35af91c8-bf83-4a21-a9b2-2a5df044efe6",
   "metadata": {},
   "outputs": [
    {
     "data": {
      "text/plain": [
       "KNeighborsClassifier(n_neighbors=7)"
      ]
     },
     "execution_count": 50,
     "metadata": {},
     "output_type": "execute_result"
    }
   ],
   "source": [
    "#KNN model- fit data (Datagy.io, 2022)\n",
    "knn=KNeighborsClassifier(n_neighbors=7)\n",
    "knn.fit(X_train,Y_train)"
   ]
  },
  {
   "cell_type": "code",
   "execution_count": 51,
   "id": "f3f29d5c-2875-45c4-ae15-5d4aa965ee1a",
   "metadata": {},
   "outputs": [
    {
     "name": "stdout",
     "output_type": "stream",
     "text": [
      "Initial accuracy score of KNN model: 0.921\n"
     ]
    }
   ],
   "source": [
    "#Predict outcomes from test data and show initial accuracy score \n",
    "Y_pred=knn.predict(X_test)\n",
    "print('Initial accuracy score of KNN model:',accuracy_score(Y_test,Y_pred))"
   ]
  },
  {
   "cell_type": "code",
   "execution_count": 52,
   "id": "c890bebc-dc7a-4abe-9b3e-da388891ed4e",
   "metadata": {},
   "outputs": [
    {
     "name": "stdout",
     "output_type": "stream",
     "text": [
      "              precision    recall  f1-score   support\n",
      "\n",
      "           0       0.97      0.90      0.94      1261\n",
      "           1       0.85      0.95      0.90       739\n",
      "\n",
      "    accuracy                           0.92      2000\n",
      "   macro avg       0.91      0.93      0.92      2000\n",
      "weighted avg       0.93      0.92      0.92      2000\n",
      "\n"
     ]
    }
   ],
   "source": [
    "#Classification model\n",
    "print(classification_report(Y_test,Y_pred))"
   ]
  },
  {
   "cell_type": "code",
   "execution_count": 53,
   "id": "954f08c5-fc31-4eef-8ed0-cd76896bfbd7",
   "metadata": {},
   "outputs": [],
   "source": [
    "#Scale data (Mulani, 2022) (Murallie, 2021)\n",
    "steps=[('scaler',StandardScaler()),('KNN',KNeighborsClassifier())]\n",
    "pipeline=Pipeline(steps)"
   ]
  },
  {
   "cell_type": "code",
   "execution_count": 54,
   "id": "917c9216-cedb-4461-a5a5-a7ee76132f84",
   "metadata": {},
   "outputs": [],
   "source": [
    "#Split data using 80/20 split and scale data with the pipeline\n",
    "X_train_scaled,X_test_scaled,Y_train_scaled,Y_test_scaled=train_test_split(x,y,test_size=0.20,random_state=SEED)\n",
    "KNN_scaled=pipeline.fit(X_train_scaled,Y_train_scaled)"
   ]
  },
  {
   "cell_type": "code",
   "execution_count": 55,
   "id": "8db2fc3b-590a-47b4-acfa-0d15dcb9dae6",
   "metadata": {},
   "outputs": [
    {
     "name": "stdout",
     "output_type": "stream",
     "text": [
      "0.89\n"
     ]
    }
   ],
   "source": [
    "#Predict from scaled data and show the accuracy score \n",
    "Y_pred_scaled=pipeline.predict(X_test_scaled)\n",
    "print(accuracy_score(Y_test_scaled,Y_pred_scaled))"
   ]
  },
  {
   "cell_type": "code",
   "execution_count": 56,
   "id": "7ab20e06-2187-4501-8f4d-77d36c22ef6f",
   "metadata": {},
   "outputs": [
    {
     "name": "stdout",
     "output_type": "stream",
     "text": [
      "              precision    recall  f1-score   support\n",
      "\n",
      "           0       0.93      0.89      0.91      1261\n",
      "           1       0.83      0.89      0.86       739\n",
      "\n",
      "    accuracy                           0.89      2000\n",
      "   macro avg       0.88      0.89      0.88      2000\n",
      "weighted avg       0.89      0.89      0.89      2000\n",
      "\n"
     ]
    }
   ],
   "source": [
    "#Classification model after scaling\n",
    "print(classification_report(Y_test_scaled,Y_pred_scaled))"
   ]
  },
  {
   "cell_type": "code",
   "execution_count": 57,
   "id": "34a8b2d7-a6f5-44f2-bcf9-cc56a9d03d02",
   "metadata": {},
   "outputs": [
    {
     "name": "stdout",
     "output_type": "stream",
     "text": [
      "[[1140  121]\n",
      " [  37  702]]\n"
     ]
    },
    {
     "data": {
      "text/plain": [
       "<AxesSubplot:>"
      ]
     },
     "execution_count": 57,
     "metadata": {},
     "output_type": "execute_result"
    },
    {
     "data": {
      "image/png": "[encoded data removed]",
      "text/plain": [
       "<Figure size 432x288 with 2 Axes>"
      ]
     },
     "metadata": {
      "needs_background": "light"
     },
     "output_type": "display_data"
    }
   ],
   "source": [
    "#Confusion matrix and visualization of it in heatmap (PythonGeeks, 2021) (Dickson, 2022)\n",
    "cf_matrix=confusion_matrix(Y_test,Y_pred)\n",
    "print(cf_matrix)\n",
    "group_names=['True Negative','False Positive','False Negative','True Positive']\n",
    "group_counts=[\"{0:0.0f}\".format(value) for value in cf_matrix.flatten()]\n",
    "group_percentages=[\"{0:.2%}\".format(value) for value in cf_matrix.flatten()/np.sum(cf_matrix)]\n",
    "labels=[f\"{v1}\\n{v2}\\n{v3}\" for v1,v2,v3 in \n",
    "zip(group_names,group_counts,group_percentages)]\n",
    "labels=np.asarray(labels).reshape(2,2)\n",
    "sns.heatmap(cf_matrix,annot=labels,fmt='',cmap='Greens')"
   ]
  },
  {
   "cell_type": "code",
   "execution_count": 58,
   "id": "dd6fde5e-e4b1-4d24-bee6-1bbc3e4047ad",
   "metadata": {},
   "outputs": [],
   "source": [
    "#Set parameters for the cross validation\n",
    "param_grid={'n_neighbors':np.arange(1,50)}"
   ]
  },
  {
   "cell_type": "code",
   "execution_count": 59,
   "id": "79d6b26b-9913-4f73-a168-462ad52efed4",
   "metadata": {},
   "outputs": [],
   "source": [
    "#recall KNN (needed for the cross validation), then use GridSearch for the cross validation \n",
    "KNN=KNeighborsClassifier()\n",
    "knn_cv=GridSearchCV(KNN,param_grid,cv=5)"
   ]
  },
  {
   "cell_type": "code",
   "execution_count": 60,
   "id": "f0cc9073-4176-4a81-b1ef-5b7aed1db3ec",
   "metadata": {},
   "outputs": [
    {
     "data": {
      "text/plain": [
       "GridSearchCV(cv=5, estimator=KNeighborsClassifier(),\n",
       "             param_grid={'n_neighbors': array([ 1,  2,  3,  4,  5,  6,  7,  8,  9, 10, 11, 12, 13, 14, 15, 16, 17,\n",
       "       18, 19, 20, 21, 22, 23, 24, 25, 26, 27, 28, 29, 30, 31, 32, 33, 34,\n",
       "       35, 36, 37, 38, 39, 40, 41, 42, 43, 44, 45, 46, 47, 48, 49])})"
      ]
     },
     "execution_count": 60,
     "metadata": {},
     "output_type": "execute_result"
    }
   ],
   "source": [
    "#Fit our model (be patient- this takes awhile)\n",
    "knn_cv.fit(X_train,Y_train)"
   ]
  },
  {
   "cell_type": "code",
   "execution_count": 61,
   "id": "9df31f50-6c8d-4824-93e9-10a88071dff1",
   "metadata": {},
   "outputs": [
    {
     "name": "stdout",
     "output_type": "stream",
     "text": [
      "{'n_neighbors': 3}\n",
      "0.9177500000000001\n"
     ]
    }
   ],
   "source": [
    "#Show the best parameters and score for said model\n",
    "print(knn_cv.best_params_)\n",
    "print(knn_cv.best_score_)"
   ]
  },
  {
   "cell_type": "code",
   "execution_count": 62,
   "id": "98a45a56-661b-4882-b801-ca781ec644a3",
   "metadata": {},
   "outputs": [
    {
     "data": {
      "text/plain": [
       "GridSearchCV(cv=5, estimator=KNeighborsClassifier(),\n",
       "             param_grid={'n_neighbors': array([ 1,  2,  3,  4,  5,  6,  7,  8,  9, 10, 11, 12, 13, 14, 15, 16, 17,\n",
       "       18, 19, 20, 21, 22, 23, 24, 25, 26, 27, 28, 29, 30, 31, 32, 33, 34,\n",
       "       35, 36, 37, 38, 39, 40, 41, 42, 43, 44, 45, 46, 47, 48, 49])})"
      ]
     },
     "execution_count": 62,
     "metadata": {},
     "output_type": "execute_result"
    }
   ],
   "source": [
    "#Need to look at area under the curve (this also takes a bit)\n",
    "#Fit to data, look at probabilties of the predictors\n",
    "knn_cv.fit(x,y)"
   ]
  },
  {
   "cell_type": "code",
   "execution_count": 63,
   "id": "6fa0088e-60a1-4452-97d5-b12cb76e19fb",
   "metadata": {},
   "outputs": [],
   "source": [
    "Y_pred_prob=knn_cv.predict_proba(X_test)[:,1]"
   ]
  },
  {
   "cell_type": "code",
   "execution_count": 64,
   "id": "e746b2b3-a9bf-4a68-8432-3f8713dd3760",
   "metadata": {},
   "outputs": [
    {
     "name": "stdout",
     "output_type": "stream",
     "text": [
      "0.9765017775912967\n"
     ]
    }
   ],
   "source": [
    "#Figure out the AUC (Area Under Curve) score (Statology, 2020)\n",
    "print((roc_auc_score(Y_test,Y_pred_prob)))"
   ]
  },
  {
   "cell_type": "code",
   "execution_count": 65,
   "id": "77c1f422-0853-4116-b82a-5b8980ac838e",
   "metadata": {},
   "outputs": [
    {
     "name": "stdout",
     "output_type": "stream",
     "text": [
      "[0.94054771 0.9373297  0.94170315 0.92813728 0.6558256 ]\n"
     ]
    }
   ],
   "source": [
    "#Then figure out the AUC scores from cross validation (this takes a long time- about 5 minutes) (Statology)\n",
    "cv_auc=cross_val_score(knn_cv,x,y,cv=5,scoring='roc_auc')\n",
    "print((cv_auc))"
   ]
  },
  {
   "cell_type": "markdown",
   "id": "1fcd54dc-975b-4ca4-8b56-b066675edef1",
   "metadata": {},
   "source": [
    "### Part V: Data Summary and Implications (Statology, 2020)\n",
    "#### E.  Summarize your data analysis by doing the following:\n",
    "#### 1.  Explain the accuracy and the area under the curve (AUC) of your classification model.\n",
    "#### As we discussed and showed above, the method of cross validation was vital for us in determining the best parameters for our KNN model when it used the training data. We were also about to determine our n-neighbor ideal/best parameter of three. The best score that we were able to achieve for our KNN model was .918, and we utilized the results of our validation to determine our AUC score of .9765. Finally, we used our 5 k-folds to cross validate our data and yielded .94054771, .9373297; .94170315, .92813728, .6558256 and a True Postiive Area Under Curve Score of almost 98% (97.65).\n",
    "#### 2.  Discuss the results and implications of your classification analysis.\n",
    "#### Our model had some good results. We were able to get .89 for our accuracy score- this shows us that our model was able to predict our patients' end result 89% (out of 100% possible). We were also able to achieve .93 for our precision score- this means that our model could tell us 93% (out of 100% possible) of the time that a patient was not readmitted to the hospital/medical facilty. Finally, we had an AUC score of 0.9765- this was a very good score. According to Statology, \"The maximum possible AUC value that you can achieve is 1. This is the perfect score and would mean that your model is predicting each observation into the correct class.\" Since our score was very close to this \"perfect 1\", we were able to conclude that we can be certain that our model will predict the True Positives correctly. Simply put, hospitals/medical care facilities can use this model to make predicitions of whether or not a patient would be readmitted using the predictors values chosen. \n",
    "#### 3.  Discuss one limitation of your data analysis.\n",
    "#### To me, the biggest limitation of my data analysis was my choosing of the k value for the algorithm's k-Nearest Neighbor. It was difficult for me to decide what values to use for the k value because I wanted to try and have a model that was as accurate as possible. The issue with this lies in figuring where to start. Since the averages are between 5 and 10, I decided to start in the middle with the value of 7 in the effort to avoid over-fitting the model with too high of a value and under-fitting by using too low of value. As mentioned in Statology, over-fitting or under-fitting our KNN model would cause data that would not accurate nor helpful in any type of classification. By using the available models in sklearn that allow for tuning and scaling, we were able to determine that the ideal K value for us was three.  \n",
    "#### 4.  Recommend a course of action for the real-world organizational situation from part A1 based on your results and implications discussed in part E2.\n",
    "#### In my opinion, the best course of action for a hospital/medical care facility would be to continue to narrow down individual predictor variables (the specific health conditions and survey questions that were included in the dataset) that provide the highest effect on patients re-entering/being remadmitted to the hospital/medical care facilities. Using these predictors to classify patients, the hospital/medical facility could cut down on patients' expenses due to more specified treatment during the initial admission and thus preventing readmission. "
   ]
  },
  {
   "cell_type": "markdown",
   "id": "01eb2c60-069e-477f-a9b7-a124d4e6d210",
   "metadata": {},
   "source": [
    "### Part VI: Demonstration\n",
    "#### F.  Provide a Panopto video recording that includes a demonstration of the functionality of the code used for the analysis and a summary of the programming environment.\n"
   ]
  },
  {
   "cell_type": "markdown",
   "id": "f0decbed-74e9-44b0-a3fa-2b0cc5d14c27",
   "metadata": {},
   "source": [
    "### Link to Panopto recording: https://wgu.hosted.panopto.com/Panopto/Pages/Viewer.aspx?id=323e9b5f-720d-4657-ba59-af29011c6b51"
   ]
  },
  {
   "cell_type": "markdown",
   "id": "910e25e5-76ea-4726-bb15-1dc187d3d2ab",
   "metadata": {},
   "source": [
    "#### G/H. \n",
    "\n",
    "#### RealPython. (n.d.). RealPython. KNN Classifier in Python.\n",
    "#### Retrieved September 25, 2022, from https://realpython.com/knn-python/\n",
    "\n",
    "#### BRUCE, P. A. (2020).  O'Reilly Media, Incorporated. Practical statistics for data scientists. 50+ essential concepts using r and python.\n",
    "#### Retrieved from WGU Library on September 25, 2022. \n",
    "\n",
    "#### GeeksforGeeks. (August 21, 2022). GeeksforGeeks. k-nearest neighbor algorithm in Python\n",
    "#### Retrieved September 25, 2022, from https://www.geeksforgeeks.org/k-nearest-neighbor-algorithm-in-python/\n",
    "\n",
    "#### Trevisan, Vinicius (January 21, 2022). Towards Data Science. Interpreting ROC Curve and ROC AUC for Classification Evaluation\n",
    "#### Retrieved September 25, 2022, from https://towardsdatascience.com/interpreting-roc-curve-and-roc-auc-for-classification-evaluation\n",
    "\n",
    "#### Dickson, J. (August 29, 2022). D208-PA-Multiple-Regression-JilianDickson\n",
    "\n",
    "#### GeeksforGeeks. (September 13, 2022). GeeksforGeeks. Random Seed In Python\n",
    "#### Retrieved September 26, 2022, from https://www.geeksforgeeks.org/random-seed-in-python/\n",
    "\n",
    "#### PythonGeeks. (2022) PythonGeeks. Python Heat Maps\n",
    "#### Retrieved September 16, 2022, from https://pythongeeks.org/python-heat-maps/\n",
    "\n",
    "#### Datagy.io. (February 13, 2022). Datagy.io. K-Nearest Neighbor (KNN) Algorithm in Python\n",
    "#### Retrieved September 27, 2022, from https://datagy.io/python-knn/\n",
    "\n",
    "#### Murallie, Thuwarakesh (December 27, 2021). Towards Data Science. Use Pipe Operations in Python for More Readable and Faster Coding\n",
    "#### Retrieved October 4, 2022, from https://towardsdatascience.com/pipe-operations-in-python-1e8f8debe26\n",
    "\n",
    "#### Mulani, Safa. (August 2, 2022). DigitalOcean. Using StandardScaler() Function to Standardize Python Data\n",
    "#### Retrieved October 4, 2022, from https://www.digitalocean.com/community/tutorials/standardscaler-function-in-python\n",
    "\n",
    "#### Smith, Zach. (November 4, 2020). Statology. An Easy Guide to K-Fold Cross-Validation\n",
    "#### Retrieved October 8, 2022, from https://www.statology.org/k-fold-cross-validation/\n"
   ]
  },
  {
   "cell_type": "code",
   "execution_count": null,
   "id": "0d1c33da-405c-4eeb-8a63-c5fb35d98f1b",
   "metadata": {},
   "outputs": [],
   "source": []
  }
 ],
 "metadata": {
  "kernelspec": {
   "display_name": "Python 3 (ipykernel)",
   "language": "python",
   "name": "python3"
  },
  "language_info": {
   "codemirror_mode": {
    "name": "ipython",
    "version": 3
   },
   "file_extension": ".py",
   "mimetype": "text/x-python",
   "name": "python",
   "nbconvert_exporter": "python",
   "pygments_lexer": "ipython3",
   "version": "3.9.6"
  }
 },
 "nbformat": 4,
 "nbformat_minor": 5
}
